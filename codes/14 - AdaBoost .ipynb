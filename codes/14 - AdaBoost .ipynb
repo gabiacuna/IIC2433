{
 "cells": [
  {
   "cell_type": "markdown",
   "metadata": {},
   "source": [
    "# IIC-2433 Minería de Datos UC"
   ]
  },
  {
   "cell_type": "markdown",
   "metadata": {},
   "source": [
    "- Versiones de librerías, python 3.8.10\n",
    "\n",
    "- numpy 1.20.3\n",
    "- sklearn 1.0.2\n"
   ]
  },
  {
   "cell_type": "code",
   "execution_count": 1,
   "metadata": {},
   "outputs": [],
   "source": [
    "from sklearn import datasets\n",
    "digits = datasets.load_digits()\n",
    "X = digits.data\n",
    "y = digits.target"
   ]
  },
  {
   "cell_type": "code",
   "execution_count": 2,
   "metadata": {},
   "outputs": [],
   "source": [
    "from sklearn.model_selection import train_test_split\n",
    "\n",
    "X_train, X_test, y_train, y_test = train_test_split(X, y, test_size=0.3,random_state=109, stratify=y)"
   ]
  },
  {
   "cell_type": "markdown",
   "metadata": {},
   "source": [
    "### Vamos a construir un ensemble AdaBoost con árboles de decisión como base. Vamos a variar el número de modelos base y la profundidad máxima de los árboles de decisión."
   ]
  },
  {
   "cell_type": "code",
   "execution_count": 3,
   "metadata": {},
   "outputs": [
    {
     "name": "stdout",
     "output_type": "stream",
     "text": [
      "For max_depth = 2 and t = 50 The accuracy is : 0.6148148148148148\n",
      "For max_depth = 2 and t = 100 The accuracy is : 0.6277777777777778\n",
      "For max_depth = 2 and t = 200 The accuracy is : 0.6666666666666666\n",
      "For max_depth = 2 and t = 500 The accuracy is : 0.774074074074074\n",
      "For max_depth = 2 and t = 1000 The accuracy is : 0.85\n",
      "For max_depth = 3 and t = 50 The accuracy is : 0.8722222222222222\n",
      "For max_depth = 3 and t = 100 The accuracy is : 0.9018518518518519\n",
      "For max_depth = 3 and t = 200 The accuracy is : 0.9092592592592592\n",
      "For max_depth = 3 and t = 500 The accuracy is : 0.924074074074074\n",
      "For max_depth = 3 and t = 1000 The accuracy is : 0.9351851851851852\n",
      "For max_depth = 4 and t = 50 The accuracy is : 0.8796296296296297\n",
      "For max_depth = 4 and t = 100 The accuracy is : 0.9296296296296296\n",
      "For max_depth = 4 and t = 200 The accuracy is : 0.9481481481481482\n",
      "For max_depth = 4 and t = 500 The accuracy is : 0.9574074074074074\n",
      "For max_depth = 4 and t = 1000 The accuracy is : 0.9629629629629629\n",
      "For max_depth = 5 and t = 50 The accuracy is : 0.9518518518518518\n",
      "For max_depth = 5 and t = 100 The accuracy is : 0.9629629629629629\n",
      "For max_depth = 5 and t = 200 The accuracy is : 0.9648148148148148\n",
      "For max_depth = 5 and t = 500 The accuracy is : 0.9685185185185186\n",
      "For max_depth = 5 and t = 1000 The accuracy is : 0.975925925925926\n"
     ]
    }
   ],
   "source": [
    "from sklearn.ensemble import AdaBoostClassifier\n",
    "from sklearn.tree import DecisionTreeClassifier\n",
    "from sklearn import metrics\n",
    "\n",
    "range_T = [50, 100, 200, 500, 1000] # Modelos base\n",
    "\n",
    "    \n",
    "for t_ in range_T:\n",
    "    clf = AdaBoostClassifier(DecisionTreeClassifier(max_depth=2), n_estimators=t_, random_state=0)\n",
    "    clf.fit(X_train, y_train)\n",
    "    y_pred = clf.predict(X_test)\n",
    "    acc = metrics.accuracy_score(y_test, y_pred)\n",
    "    print(\n",
    "        \"For max_depth = 2 and t =\",\n",
    "        t_,\n",
    "        \"The accuracy is :\",\n",
    "        acc,\n",
    "    )\n",
    "    \n",
    "for t_ in range_T:\n",
    "    clf = AdaBoostClassifier(DecisionTreeClassifier(max_depth=3), n_estimators=t_, random_state=0)\n",
    "    clf.fit(X_train, y_train)\n",
    "    y_pred = clf.predict(X_test)\n",
    "    acc = metrics.accuracy_score(y_test, y_pred)\n",
    "    print(\n",
    "        \"For max_depth = 3 and t =\",\n",
    "        t_,\n",
    "        \"The accuracy is :\",\n",
    "        acc,\n",
    "    )\n",
    "    \n",
    "for t_ in range_T:\n",
    "    clf = AdaBoostClassifier(DecisionTreeClassifier(max_depth=4), n_estimators=t_, random_state=0)\n",
    "    clf.fit(X_train, y_train)\n",
    "    y_pred = clf.predict(X_test)\n",
    "    acc = metrics.accuracy_score(y_test, y_pred)\n",
    "    print(\n",
    "        \"For max_depth = 4 and t =\",\n",
    "        t_,\n",
    "        \"The accuracy is :\",\n",
    "        acc,\n",
    "    )\n",
    "\n",
    "    \n",
    "for t_ in range_T:\n",
    "    clf = AdaBoostClassifier(DecisionTreeClassifier(max_depth=5), n_estimators=t_, random_state=0)\n",
    "    clf.fit(X_train, y_train)\n",
    "    y_pred = clf.predict(X_test)\n",
    "    acc = metrics.accuracy_score(y_test, y_pred)\n",
    "    print(\n",
    "        \"For max_depth = 5 and t =\",\n",
    "        t_,\n",
    "        \"The accuracy is :\",\n",
    "        acc,\n",
    "    )"
   ]
  },
  {
   "cell_type": "markdown",
   "metadata": {},
   "source": [
    "Ver parámetros en: https://scikit-learn.org/stable/modules/generated/sklearn.ensemble.AdaBoostClassifier.html"
   ]
  },
  {
   "cell_type": "markdown",
   "metadata": {},
   "source": [
    "### El modelo más complejo resultó ser el mejor"
   ]
  },
  {
   "cell_type": "code",
   "execution_count": 4,
   "metadata": {},
   "outputs": [],
   "source": [
    "clf = AdaBoostClassifier(DecisionTreeClassifier(max_depth=5), n_estimators=1000, random_state=0)\n",
    "clf.fit(X_train, y_train)\n",
    "y_pred = clf.predict(X_test)\n",
    "acc = metrics.accuracy_score(y_test, y_pred)"
   ]
  },
  {
   "cell_type": "markdown",
   "metadata": {},
   "source": [
    "### Staged perdict nos permite evaluar el error de testing en función de T (número de árboles base)"
   ]
  },
  {
   "cell_type": "code",
   "execution_count": 6,
   "metadata": {},
   "outputs": [],
   "source": [
    "from sklearn.metrics import accuracy_score\n",
    "\n",
    "test_errors = []\n",
    "\n",
    "for test_predict in clf.staged_predict(X_test):\n",
    "    test_errors.append(1.0 - accuracy_score(test_predict, y_test))\n",
    "    "
   ]
  },
  {
   "cell_type": "code",
   "execution_count": 7,
   "metadata": {},
   "outputs": [
    {
     "data": {
      "text/plain": [
       "Text(0.5, 0, 'Number of Trees')"
      ]
     },
     "execution_count": 7,
     "metadata": {},
     "output_type": "execute_result"
    },
    {
     "data": {
      "image/png": "[encoded data removed]",
      "text/plain": [
       "<Figure size 1080x360 with 1 Axes>"
      ]
     },
     "metadata": {
      "needs_background": "light"
     },
     "output_type": "display_data"
    }
   ],
   "source": [
    "import matplotlib.pyplot as plt\n",
    "\n",
    "plt.figure(figsize=(15, 5))\n",
    "\n",
    "plt.plot(range(1, len(clf) + 1), test_errors, c=\"black\")\n",
    "plt.ylabel(\"Test Error\")\n",
    "plt.xlabel(\"Number of Trees\")"
   ]
  },
  {
   "cell_type": "markdown",
   "metadata": {},
   "source": [
    "### Se ve que el error baja rápidamente. Las mejoras agregando más árboles son marginales. "
   ]
  },
  {
   "cell_type": "code",
   "execution_count": null,
   "metadata": {},
   "outputs": [],
   "source": []
  }
 ],
 "metadata": {
  "kernelspec": {
   "display_name": "Python 3",
   "language": "python",
   "name": "python3"
  },
  "language_info": {
   "codemirror_mode": {
    "name": "ipython",
    "version": 3
   },
   "file_extension": ".py",
   "mimetype": "text/x-python",
   "name": "python",
   "nbconvert_exporter": "python",
   "pygments_lexer": "ipython3",
   "version": "3.8.10"
  }
 },
 "nbformat": 4,
 "nbformat_minor": 4
}
