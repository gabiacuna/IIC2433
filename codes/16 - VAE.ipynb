{
 "cells": [
  {
   "cell_type": "markdown",
   "metadata": {},
   "source": [
    "# IIC-2433 Minería de Datos UC"
   ]
  },
  {
   "cell_type": "markdown",
   "metadata": {},
   "source": [
    "- Versiones de librerías, python 3.8.10\n",
    "\n",
    "- numpy 1.20.3\n",
    "- nltk 3.7\n",
    "- keras 2.9.0\n",
    "- tensorflow 2.9.1\n"
   ]
  },
  {
   "cell_type": "code",
   "execution_count": 1,
   "metadata": {},
   "outputs": [],
   "source": [
    "import numpy as np\n",
    "import tensorflow as tf\n",
    "from tensorflow import keras\n",
    "from tensorflow.keras import layers"
   ]
  },
  {
   "cell_type": "markdown",
   "metadata": {},
   "source": [
    "### Esta es la función que usaremos para generar datos (muestreo desde Z)"
   ]
  },
  {
   "cell_type": "code",
   "execution_count": 2,
   "metadata": {},
   "outputs": [],
   "source": [
    "class Sampling(layers.Layer):\n",
    "\n",
    "    def call(self, inputs):\n",
    "        z_mean, z_log_var = inputs\n",
    "        batch = tf.shape(z_mean)[0]\n",
    "        dim = tf.shape(z_mean)[1]\n",
    "        epsilon = tf.keras.backend.random_normal(shape=(batch, dim))\n",
    "        return z_mean + tf.exp(0.5 * z_log_var) * epsilon"
   ]
  },
  {
   "cell_type": "markdown",
   "metadata": {},
   "source": [
    "### Definimos el encoder del VAE (es un VAE convolucional)\n",
    "\n",
    "-- filters: Integer, the dimensionality of the output space (i.e. the number of output filters in the convolution).\n",
    "\n",
    "-- kernel_size: An integer or tuple/list of 2 integers, specifying the height and width of the 2D convolution window. Can be a single integer to specify the same value for all spatial dimensions.\n",
    "\n",
    "-- strides: An integer or tuple/list of 2 integers, specifying the strides of the convolution along the height and width."
   ]
  },
  {
   "cell_type": "code",
   "execution_count": 4,
   "metadata": {},
   "outputs": [
    {
     "name": "stdout",
     "output_type": "stream",
     "text": [
      "Model: \"encoder\"\n",
      "__________________________________________________________________________________________________\n",
      " Layer (type)                   Output Shape         Param #     Connected to                     \n",
      "==================================================================================================\n",
      " input_2 (InputLayer)           [(None, 28, 28, 1)]  0           []                               \n",
      "                                                                                                  \n",
      " conv2d_2 (Conv2D)              (None, 14, 14, 32)   320         ['input_2[0][0]']                \n",
      "                                                                                                  \n",
      " conv2d_3 (Conv2D)              (None, 7, 7, 16)     4624        ['conv2d_2[0][0]']               \n",
      "                                                                                                  \n",
      " flatten_1 (Flatten)            (None, 784)          0           ['conv2d_3[0][0]']               \n",
      "                                                                                                  \n",
      " dense_1 (Dense)                (None, 16)           12560       ['flatten_1[0][0]']              \n",
      "                                                                                                  \n",
      " z_mean (Dense)                 (None, 2)            34          ['dense_1[0][0]']                \n",
      "                                                                                                  \n",
      " z_log_var (Dense)              (None, 2)            34          ['dense_1[0][0]']                \n",
      "                                                                                                  \n",
      " sampling_1 (Sampling)          (None, 2)            0           ['z_mean[0][0]',                 \n",
      "                                                                  'z_log_var[0][0]']              \n",
      "                                                                                                  \n",
      "==================================================================================================\n",
      "Total params: 17,572\n",
      "Trainable params: 17,572\n",
      "Non-trainable params: 0\n",
      "__________________________________________________________________________________________________\n"
     ]
    }
   ],
   "source": [
    "latent_dim = 2\n",
    "\n",
    "encoder_inputs = keras.Input(shape=(28, 28, 1))\n",
    "x = layers.Conv2D(32, 3, activation=\"relu\", strides=2, padding=\"same\")(encoder_inputs) \n",
    "x = layers.Conv2D(16, 3, activation=\"relu\", strides=2, padding=\"same\")(x)\n",
    "x = layers.Flatten()(x)\n",
    "x = layers.Dense(16, activation=\"relu\")(x)\n",
    "z_mean = layers.Dense(latent_dim, name=\"z_mean\")(x)\n",
    "z_log_var = layers.Dense(latent_dim, name=\"z_log_var\")(x)\n",
    "z = Sampling()([z_mean, z_log_var])\n",
    "encoder = keras.Model(encoder_inputs, [z_mean, z_log_var, z], name=\"encoder\")\n",
    "encoder.summary()"
   ]
  },
  {
   "cell_type": "markdown",
   "metadata": {},
   "source": [
    "### Ahora definimos el decoder"
   ]
  },
  {
   "cell_type": "code",
   "execution_count": 5,
   "metadata": {},
   "outputs": [
    {
     "name": "stdout",
     "output_type": "stream",
     "text": [
      "Model: \"decoder\"\n",
      "_________________________________________________________________\n",
      " Layer (type)                Output Shape              Param #   \n",
      "=================================================================\n",
      " input_3 (InputLayer)        [(None, 2)]               0         \n",
      "                                                                 \n",
      " dense_2 (Dense)             (None, 784)               2352      \n",
      "                                                                 \n",
      " reshape (Reshape)           (None, 7, 7, 16)          0         \n",
      "                                                                 \n",
      " conv2d_transpose (Conv2DTra  (None, 14, 14, 32)       4640      \n",
      " nspose)                                                         \n",
      "                                                                 \n",
      " conv2d_transpose_1 (Conv2DT  (None, 28, 28, 64)       18496     \n",
      " ranspose)                                                       \n",
      "                                                                 \n",
      " conv2d_transpose_2 (Conv2DT  (None, 28, 28, 1)        577       \n",
      " ranspose)                                                       \n",
      "                                                                 \n",
      "=================================================================\n",
      "Total params: 26,065\n",
      "Trainable params: 26,065\n",
      "Non-trainable params: 0\n",
      "_________________________________________________________________\n"
     ]
    }
   ],
   "source": [
    "latent_inputs = keras.Input(shape=(latent_dim,))\n",
    "x = layers.Dense(7 * 7 * 16, activation=\"relu\")(latent_inputs)\n",
    "x = layers.Reshape((7, 7, 16))(x)\n",
    "x = layers.Conv2DTranspose(32, 3, activation=\"relu\", strides=2, padding=\"same\")(x)\n",
    "x = layers.Conv2DTranspose(64, 3, activation=\"relu\", strides=2, padding=\"same\")(x)\n",
    "decoder_outputs = layers.Conv2DTranspose(1, 3, activation=\"sigmoid\", padding=\"same\")(x)\n",
    "decoder = keras.Model(latent_inputs, decoder_outputs, name=\"decoder\")\n",
    "decoder.summary()"
   ]
  },
  {
   "cell_type": "markdown",
   "metadata": {},
   "source": [
    "### El VAE se define acoplando ambos modelos (encoder y decoder). Definimos además la función de pérdida, y el train step. Usamos un reduce mean para calcular el error de reconstrucción. Se usa una pérdida KL para ajustar la Gaussiana. "
   ]
  },
  {
   "cell_type": "code",
   "execution_count": 6,
   "metadata": {},
   "outputs": [],
   "source": [
    "class VAE(keras.Model):\n",
    "    def __init__(self, encoder, decoder, **kwargs):\n",
    "        super().__init__(**kwargs)\n",
    "        self.encoder = encoder\n",
    "        self.decoder = decoder\n",
    "        self.total_loss_tracker = keras.metrics.Mean(name=\"total_loss\")\n",
    "        self.reconstruction_loss_tracker = keras.metrics.Mean(\n",
    "            name=\"reconstruction_loss\"\n",
    "        )\n",
    "        self.kl_loss_tracker = keras.metrics.Mean(name=\"kl_loss\")\n",
    "\n",
    "    @property\n",
    "    def metrics(self):\n",
    "        return [\n",
    "            self.total_loss_tracker,\n",
    "            self.reconstruction_loss_tracker,\n",
    "            self.kl_loss_tracker,\n",
    "        ]\n",
    "\n",
    "    def train_step(self, data):\n",
    "        with tf.GradientTape() as tape:\n",
    "            z_mean, z_log_var, z = self.encoder(data)\n",
    "            reconstruction = self.decoder(z)\n",
    "            reconstruction_loss = tf.reduce_mean(\n",
    "                tf.reduce_sum(\n",
    "                    keras.losses.binary_crossentropy(data, reconstruction), axis=(1, 2)\n",
    "                )\n",
    "            )\n",
    "            kl_loss = -0.5 * (1 + z_log_var - tf.square(z_mean) - tf.exp(z_log_var))\n",
    "            kl_loss = tf.reduce_mean(tf.reduce_sum(kl_loss, axis=1))\n",
    "            total_loss = reconstruction_loss + kl_loss\n",
    "        grads = tape.gradient(total_loss, self.trainable_weights)\n",
    "        self.optimizer.apply_gradients(zip(grads, self.trainable_weights))\n",
    "        self.total_loss_tracker.update_state(total_loss)\n",
    "        self.reconstruction_loss_tracker.update_state(reconstruction_loss)\n",
    "        self.kl_loss_tracker.update_state(kl_loss)\n",
    "        return {\n",
    "            \"loss\": self.total_loss_tracker.result(),\n",
    "            \"reconstruction_loss\": self.reconstruction_loss_tracker.result(),\n",
    "            \"kl_loss\": self.kl_loss_tracker.result(),\n",
    "        }"
   ]
  },
  {
   "cell_type": "markdown",
   "metadata": {},
   "source": [
    "### Vamos a trabajar sonre digits"
   ]
  },
  {
   "cell_type": "code",
   "execution_count": 7,
   "metadata": {},
   "outputs": [],
   "source": [
    "(x_train, _), (x_test, _) = keras.datasets.mnist.load_data()"
   ]
  },
  {
   "cell_type": "code",
   "execution_count": 8,
   "metadata": {},
   "outputs": [
    {
     "data": {
      "text/plain": [
       "(60000, 28, 28)"
      ]
     },
     "execution_count": 8,
     "metadata": {},
     "output_type": "execute_result"
    }
   ],
   "source": [
    "x_train.shape"
   ]
  },
  {
   "cell_type": "markdown",
   "metadata": {},
   "source": [
    "### Vamos a usar todos las datos para preentrenar. Esto es aprendizaje no supervisado. Vamos a usar 30 epochs, y batch size = 128. Estos hiperparámetros podemos modificarlos. Vamos a monitorear ambas pérdidas (reconstrucción y KL)"
   ]
  },
  {
   "cell_type": "code",
   "execution_count": 10,
   "metadata": {},
   "outputs": [
    {
     "name": "stdout",
     "output_type": "stream",
     "text": [
      "Epoch 1/30\n",
      "547/547 [==============================] - 22s 39ms/step - loss: 154.7216 - reconstruction_loss: 148.6721 - kl_loss: 5.7695\n",
      "Epoch 2/30\n",
      "547/547 [==============================] - 21s 39ms/step - loss: 154.2299 - reconstruction_loss: 148.1193 - kl_loss: 5.8235\n",
      "Epoch 3/30\n",
      "547/547 [==============================] - 21s 39ms/step - loss: 153.5945 - reconstruction_loss: 147.7374 - kl_loss: 5.8446\n",
      "Epoch 4/30\n",
      "547/547 [==============================] - 22s 40ms/step - loss: 153.1087 - reconstruction_loss: 147.3226 - kl_loss: 5.8820\n",
      "Epoch 5/30\n",
      "547/547 [==============================] - 21s 39ms/step - loss: 152.9176 - reconstruction_loss: 146.9171 - kl_loss: 5.9180\n",
      "Epoch 6/30\n",
      "547/547 [==============================] - 22s 40ms/step - loss: 152.4282 - reconstruction_loss: 146.6251 - kl_loss: 5.9459\n",
      "Epoch 7/30\n",
      "547/547 [==============================] - 21s 39ms/step - loss: 152.2736 - reconstruction_loss: 146.3196 - kl_loss: 5.9676\n",
      "Epoch 8/30\n",
      "547/547 [==============================] - 21s 39ms/step - loss: 152.0392 - reconstruction_loss: 146.0657 - kl_loss: 5.9915\n",
      "Epoch 9/30\n",
      "547/547 [==============================] - 22s 40ms/step - loss: 151.9842 - reconstruction_loss: 145.8517 - kl_loss: 6.0067\n",
      "Epoch 10/30\n",
      "547/547 [==============================] - 21s 39ms/step - loss: 151.7718 - reconstruction_loss: 145.6374 - kl_loss: 6.0339\n",
      "Epoch 11/30\n",
      "547/547 [==============================] - 21s 38ms/step - loss: 151.4049 - reconstruction_loss: 145.3669 - kl_loss: 6.0508\n",
      "Epoch 12/30\n",
      "547/547 [==============================] - 21s 39ms/step - loss: 151.3582 - reconstruction_loss: 145.1090 - kl_loss: 6.0673\n",
      "Epoch 13/30\n",
      "547/547 [==============================] - 22s 39ms/step - loss: 151.1519 - reconstruction_loss: 144.9539 - kl_loss: 6.0878\n",
      "Epoch 14/30\n",
      "547/547 [==============================] - 22s 40ms/step - loss: 150.9633 - reconstruction_loss: 144.7685 - kl_loss: 6.1099\n",
      "Epoch 15/30\n",
      "547/547 [==============================] - 22s 40ms/step - loss: 150.8137 - reconstruction_loss: 144.5641 - kl_loss: 6.1273\n",
      "Epoch 16/30\n",
      "547/547 [==============================] - 21s 39ms/step - loss: 150.2030 - reconstruction_loss: 144.4065 - kl_loss: 6.1303\n",
      "Epoch 17/30\n",
      "547/547 [==============================] - 22s 40ms/step - loss: 150.5396 - reconstruction_loss: 144.2439 - kl_loss: 6.1553\n",
      "Epoch 18/30\n",
      "547/547 [==============================] - 21s 39ms/step - loss: 150.1760 - reconstruction_loss: 144.1481 - kl_loss: 6.1598\n",
      "Epoch 19/30\n",
      "547/547 [==============================] - 22s 39ms/step - loss: 150.1769 - reconstruction_loss: 143.8776 - kl_loss: 6.1570\n",
      "Epoch 20/30\n",
      "547/547 [==============================] - 22s 40ms/step - loss: 149.9707 - reconstruction_loss: 143.7980 - kl_loss: 6.1964\n",
      "Epoch 21/30\n",
      "547/547 [==============================] - 22s 40ms/step - loss: 150.0363 - reconstruction_loss: 143.7962 - kl_loss: 6.2168\n",
      "Epoch 22/30\n",
      "547/547 [==============================] - 21s 39ms/step - loss: 150.2665 - reconstruction_loss: 143.6115 - kl_loss: 6.2208\n",
      "Epoch 23/30\n",
      "547/547 [==============================] - 22s 40ms/step - loss: 149.7644 - reconstruction_loss: 143.4616 - kl_loss: 6.2251\n",
      "Epoch 24/30\n",
      "547/547 [==============================] - 22s 39ms/step - loss: 149.5819 - reconstruction_loss: 143.3702 - kl_loss: 6.2421\n",
      "Epoch 25/30\n",
      "547/547 [==============================] - 22s 40ms/step - loss: 149.2315 - reconstruction_loss: 143.2104 - kl_loss: 6.2496\n",
      "Epoch 26/30\n",
      "547/547 [==============================] - 22s 39ms/step - loss: 149.4815 - reconstruction_loss: 143.2285 - kl_loss: 6.2415\n",
      "Epoch 27/30\n",
      "547/547 [==============================] - 22s 39ms/step - loss: 149.0561 - reconstruction_loss: 143.0535 - kl_loss: 6.2580\n",
      "Epoch 28/30\n",
      "547/547 [==============================] - 22s 40ms/step - loss: 149.4280 - reconstruction_loss: 142.9679 - kl_loss: 6.2619\n",
      "Epoch 29/30\n",
      "547/547 [==============================] - 21s 39ms/step - loss: 149.4913 - reconstruction_loss: 142.9372 - kl_loss: 6.2830\n",
      "Epoch 30/30\n",
      "547/547 [==============================] - 21s 39ms/step - loss: 149.0688 - reconstruction_loss: 142.7711 - kl_loss: 6.2924\n"
     ]
    }
   ],
   "source": [
    "mnist_digits = np.concatenate([x_train, x_test], axis=0)\n",
    "mnist_digits = np.expand_dims(mnist_digits, -1).astype(\"float32\") / 255\n",
    "\n",
    "vae = VAE(encoder, decoder)\n",
    "vae.compile(optimizer=keras.optimizers.Adam())\n",
    "history = vae.fit(mnist_digits, epochs=30, batch_size=128)"
   ]
  },
  {
   "cell_type": "markdown",
   "metadata": {},
   "source": [
    "### Veamos como fue el entrenamiento del VAE"
   ]
  },
  {
   "cell_type": "code",
   "execution_count": 13,
   "metadata": {},
   "outputs": [
    {
     "data": {
      "image/png": "[encoded data removed]",
      "text/plain": [
       "<Figure size 864x432 with 1 Axes>"
      ]
     },
     "metadata": {},
     "output_type": "display_data"
    }
   ],
   "source": [
    "import seaborn as sns\n",
    "import matplotlib.pyplot as plt\n",
    "\n",
    "plt.figure(figsize=(12, 6))\n",
    "sns.set_style(\"whitegrid\")\n",
    "plt.plot(history.history['loss'], label='Global Loss')\n",
    "plt.plot(history.history['reconstruction_loss'], label='Reconstruction Loss')\n",
    "plt.title('Training')\n",
    "plt.xlabel('Epochs')\n",
    "plt.ylabel('Loss')\n",
    "plt.legend()\n",
    "plt.show()"
   ]
  },
  {
   "cell_type": "markdown",
   "metadata": {},
   "source": [
    "### Ahora lo usaremos para data augmentation"
   ]
  },
  {
   "cell_type": "code",
   "execution_count": 20,
   "metadata": {},
   "outputs": [
    {
     "name": "stdout",
     "output_type": "stream",
     "text": [
      "1/1 [==============================] - 0s 25ms/step\n"
     ]
    },
    {
     "data": {
      "image/png": "[encoded data removed]",
      "text/plain": [
       "<Figure size 72x72 with 1 Axes>"
      ]
     },
     "metadata": {},
     "output_type": "display_data"
    }
   ],
   "source": [
    "import random\n",
    "import matplotlib.pyplot as plt\n",
    "\n",
    "digit_size = 28\n",
    "scale = 1.0\n",
    "x_ = random.uniform(-scale, scale) # sampling de Uniforme[-1,+1]\n",
    "y_ = random.uniform(-scale, scale) # sampling de Uniforme[-1,+1]\n",
    "z_sample = np.array([[x_, y_]])\n",
    "x_decoded = vae.decoder.predict(z_sample) # pasamos por el decoder\n",
    "digit = x_decoded[0].reshape(digit_size, digit_size) # le hacemos un reshape al formato de la imagen (28x28)\n",
    "plt.figure(figsize=(1,1))\n",
    "plt.axis('off')\n",
    "plt.imshow(digit, cmap=\"Greys_r\")\n",
    "plt.show()"
   ]
  }
 ],
 "metadata": {
  "kernelspec": {
   "display_name": "Python 3",
   "language": "python",
   "name": "python3"
  },
  "language_info": {
   "codemirror_mode": {
    "name": "ipython",
    "version": 3
   },
   "file_extension": ".py",
   "mimetype": "text/x-python",
   "name": "python",
   "nbconvert_exporter": "python",
   "pygments_lexer": "ipython3",
   "version": "3.8.10"
  }
 },
 "nbformat": 4,
 "nbformat_minor": 4
}
