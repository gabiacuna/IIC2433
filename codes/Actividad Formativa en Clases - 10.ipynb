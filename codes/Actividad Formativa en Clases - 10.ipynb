{
 "cells": [
  {
   "cell_type": "markdown",
   "metadata": {},
   "source": [
    "# IIC-2433 Minería de Datos UC"
   ]
  },
  {
   "cell_type": "markdown",
   "metadata": {},
   "source": [
    "- Versiones de librerías, python 3.8.10\n",
    "\n",
    "- numpy 1.20.3\n",
    "- sklearn 1.0.2"
   ]
  },
  {
   "cell_type": "markdown",
   "metadata": {},
   "source": [
    "## Actividad en clase\n",
    "\n",
    "1. Trabaje sobre estos datos:\n",
    "\n",
    "```python\n",
    "from sklearn.datasets import fetch_covtype\n",
    "\n",
    "X, y = fetch_covtype(return_X_y=True)\n",
    "from sklearn.model_selection import train_test_split\n",
    "\n",
    "X_train, X_test, y_train, y_test = train_test_split(X, y, train_size=5_000, test_size=10_000, random_state=42, stratify=y)\n",
    "```\n",
    "\n",
    "2. Usando el algoritmo **SVC**, haga lo siguiente:\n",
    "\n",
    "2.1 Cree un clasificador **SVC** sobre datos estandarizados usando el kernel trick con kernels lineal, polinomial, rbf y sigmoid. Pruebe varias configuraciones para el kernel polinomial. Seleccione el mejor modelo. Evalúe el modelo en la partición de testing usando accuracy_score, classification_report y confusion_matrix_display. Verifique que el problema es muy difícil debido al desbalance de clases.\n",
    "\n",
    "2.2 Ahora vamos a balancear usando oversampling con la librería imblearn (instálela con pip3). Luego cree el  siguiente pipeline:\n",
    "\n",
    "```python\n",
    "from imblearn.pipeline import make_pipeline as make_pipeline_with_sampler\n",
    "from imblearn.over_sampling import RandomOverSampler\n",
    "\n",
    "svc_clf = make_pipeline_with_sampler(\n",
    "    StandardScaler(), \n",
    "    RandomOverSampler(random_state=42),\n",
    "    SVC(kernel='rbf'),\n",
    ")\n",
    "```\n",
    "\n",
    "2.3 Entrene svc_clf sobre training. Evalúe su nuevo clasificador en testing usando accuracy_score, classification_report y confusion_matrix_display. Fíjese que se observa una mejora pero con un costo. ¿Qué empeora?\n",
    "\n",
    "- Cuanto termine, me avisa para entregarle una **L (logrado)**.\n",
    "- Recuerde que cada L es una décima más en la nota de la asignatura.\n",
    "- Pueden trabajar de a dos.\n",
    "\n",
    "***Tiene hasta el final de la clase.***\n"
   ]
  },
  {
   "cell_type": "markdown",
   "metadata": {},
   "source": [
    "# Solución"
   ]
  },
  {
   "cell_type": "code",
   "execution_count": 1,
   "metadata": {},
   "outputs": [],
   "source": [
    "from sklearn.datasets import fetch_covtype\n",
    "\n",
    "X, y = fetch_covtype(return_X_y=True)\n",
    "from sklearn.model_selection import train_test_split\n",
    "\n",
    "X_train, X_test, y_train, y_test = train_test_split(X, y, train_size=5_000, test_size=10_000, random_state=42, stratify=y)"
   ]
  },
  {
   "cell_type": "code",
   "execution_count": 2,
   "metadata": {},
   "outputs": [
    {
     "name": "stdout",
     "output_type": "stream",
     "text": [
      "For kernel = linear The accuracy is : 0.7237\n",
      "For kernel = poly with degree = 2 The accuracy is : 0.6626\n",
      "For kernel = poly with degree = 3 The accuracy is : 0.6822\n",
      "For kernel = poly with degree = 4 The accuracy is : 0.6462\n",
      "For kernel = poly with degree = 5 The accuracy is : 0.6383\n",
      "For kernel = poly with degree = 6 The accuracy is : 0.6184\n",
      "For kernel = rbf The accuracy is : 0.7268\n",
      "For kernel = sigmoid The accuracy is : 0.6686\n"
     ]
    }
   ],
   "source": [
    "from sklearn.svm import SVC\n",
    "from sklearn.pipeline import make_pipeline\n",
    "from sklearn.preprocessing import StandardScaler\n",
    "from sklearn import metrics\n",
    "\n",
    "kernels = ['linear', 'poly', 'rbf', 'sigmoid']\n",
    "degrees = [2, 3, 4, 5, 6]\n",
    "\n",
    "for kernel_ in kernels:\n",
    "    if kernel_ == 'poly':\n",
    "        for degree_ in degrees:\n",
    "            clf = make_pipeline(StandardScaler(), SVC(kernel=kernel_, degree= degree_))\n",
    "            clf.fit(X_train, y_train)\n",
    "            y_pred = clf.predict(X_test)\n",
    "            acc = metrics.accuracy_score(y_test, y_pred)\n",
    "            print(\n",
    "                \"For kernel =\",\n",
    "                kernel_,\n",
    "                \"with degree =\",\n",
    "                degree_,\n",
    "                \"The accuracy is :\",\n",
    "                acc,\n",
    "            )\n",
    "    else:\n",
    "        clf = make_pipeline(StandardScaler(), SVC(kernel=kernel_))\n",
    "        clf.fit(X_train, y_train)\n",
    "        y_pred = clf.predict(X_test)\n",
    "        acc = metrics.accuracy_score(y_test, y_pred)\n",
    "        print(\n",
    "            \"For kernel =\",\n",
    "            kernel_,\n",
    "            \"The accuracy is :\",\n",
    "            acc,\n",
    "        )\n",
    "    "
   ]
  },
  {
   "cell_type": "code",
   "execution_count": 3,
   "metadata": {},
   "outputs": [
    {
     "data": {
      "text/plain": [
       "Pipeline(steps=[('standardscaler', StandardScaler()), ('svc', SVC())])"
      ]
     },
     "execution_count": 3,
     "metadata": {},
     "output_type": "execute_result"
    }
   ],
   "source": [
    "clf = make_pipeline(StandardScaler(), SVC(kernel='rbf'))\n",
    "clf.fit(X_train, y_train)"
   ]
  },
  {
   "cell_type": "code",
   "execution_count": 4,
   "metadata": {},
   "outputs": [
    {
     "name": "stdout",
     "output_type": "stream",
     "text": [
      "              precision    recall  f1-score   support\n",
      "\n",
      "           1       0.73      0.69      0.71      3646\n",
      "           2       0.74      0.82      0.78      4876\n",
      "           3       0.64      0.87      0.74       615\n",
      "           4       0.70      0.15      0.25        47\n",
      "           5       0.00      0.00      0.00       164\n",
      "           6       0.53      0.09      0.16       299\n",
      "           7       0.66      0.59      0.62       353\n",
      "\n",
      "    accuracy                           0.73     10000\n",
      "   macro avg       0.57      0.46      0.46     10000\n",
      "weighted avg       0.71      0.73      0.71     10000\n",
      "\n"
     ]
    },
    {
     "name": "stderr",
     "output_type": "stream",
     "text": [
      "/usr/local/lib/python3.8/dist-packages/sklearn/metrics/_classification.py:1318: UndefinedMetricWarning: Precision and F-score are ill-defined and being set to 0.0 in labels with no predicted samples. Use `zero_division` parameter to control this behavior.\n",
      "  _warn_prf(average, modifier, msg_start, len(result))\n",
      "/usr/local/lib/python3.8/dist-packages/sklearn/metrics/_classification.py:1318: UndefinedMetricWarning: Precision and F-score are ill-defined and being set to 0.0 in labels with no predicted samples. Use `zero_division` parameter to control this behavior.\n",
      "  _warn_prf(average, modifier, msg_start, len(result))\n",
      "/usr/local/lib/python3.8/dist-packages/sklearn/metrics/_classification.py:1318: UndefinedMetricWarning: Precision and F-score are ill-defined and being set to 0.0 in labels with no predicted samples. Use `zero_division` parameter to control this behavior.\n",
      "  _warn_prf(average, modifier, msg_start, len(result))\n"
     ]
    }
   ],
   "source": [
    "y_pred = clf.predict(X_test)\n",
    "print(metrics.classification_report(y_test, y_pred))"
   ]
  },
  {
   "cell_type": "code",
   "execution_count": 5,
   "metadata": {},
   "outputs": [
    {
     "data": {
      "image/png": "[encoded data removed]",
      "text/plain": [
       "<Figure size 432x288 with 2 Axes>"
      ]
     },
     "metadata": {
      "needs_background": "light"
     },
     "output_type": "display_data"
    }
   ],
   "source": [
    "cm = metrics.confusion_matrix(y_test, y_pred)\n",
    "cm_display = metrics.ConfusionMatrixDisplay(cm).plot()"
   ]
  },
  {
   "cell_type": "code",
   "execution_count": 6,
   "metadata": {},
   "outputs": [
    {
     "name": "stdout",
     "output_type": "stream",
     "text": [
      "Requirement already satisfied: imblearn in /home/marcelo/.local/lib/python3.8/site-packages (0.0)\n",
      "Requirement already satisfied: imbalanced-learn in /home/marcelo/.local/lib/python3.8/site-packages (from imblearn) (0.11.0)\n",
      "Requirement already satisfied: joblib>=1.1.1 in /home/marcelo/.local/lib/python3.8/site-packages (from imbalanced-learn->imblearn) (1.3.2)\n",
      "Requirement already satisfied: scikit-learn>=1.0.2 in /usr/local/lib/python3.8/dist-packages (from imbalanced-learn->imblearn) (1.0.2)\n",
      "Requirement already satisfied: scipy>=1.5.0 in /usr/local/lib/python3.8/dist-packages (from imbalanced-learn->imblearn) (1.8.0)\n",
      "Requirement already satisfied: numpy>=1.17.3 in /home/marcelo/.local/lib/python3.8/site-packages (from imbalanced-learn->imblearn) (1.20.3)\n",
      "Requirement already satisfied: threadpoolctl>=2.0.0 in /usr/local/lib/python3.8/dist-packages (from imbalanced-learn->imblearn) (3.1.0)\n"
     ]
    }
   ],
   "source": [
    "!pip3 install imblearn"
   ]
  },
  {
   "cell_type": "code",
   "execution_count": 7,
   "metadata": {},
   "outputs": [],
   "source": [
    "from imblearn.pipeline import make_pipeline as make_pipeline_with_sampler\n",
    "from imblearn.over_sampling import RandomOverSampler\n",
    "\n",
    "svc_clf = make_pipeline_with_sampler(\n",
    "    StandardScaler(), \n",
    "    RandomOverSampler(random_state=42),\n",
    "    SVC(kernel='rbf'),\n",
    ")"
   ]
  },
  {
   "cell_type": "code",
   "execution_count": 8,
   "metadata": {},
   "outputs": [
    {
     "data": {
      "text/plain": [
       "Pipeline(steps=[('standardscaler', StandardScaler()),\n",
       "                ('randomoversampler', RandomOverSampler(random_state=42)),\n",
       "                ('svc', SVC())])"
      ]
     },
     "execution_count": 8,
     "metadata": {},
     "output_type": "execute_result"
    }
   ],
   "source": [
    "svc_clf.fit(X_train, y_train)"
   ]
  },
  {
   "cell_type": "code",
   "execution_count": 9,
   "metadata": {},
   "outputs": [
    {
     "name": "stdout",
     "output_type": "stream",
     "text": [
      "              precision    recall  f1-score   support\n",
      "\n",
      "           1       0.69      0.70      0.69      3646\n",
      "           2       0.81      0.57      0.67      4876\n",
      "           3       0.68      0.62      0.65       615\n",
      "           4       0.36      0.68      0.47        47\n",
      "           5       0.13      0.72      0.21       164\n",
      "           6       0.33      0.67      0.44       299\n",
      "           7       0.44      0.87      0.58       353\n",
      "\n",
      "    accuracy                           0.64     10000\n",
      "   macro avg       0.49      0.69      0.53     10000\n",
      "weighted avg       0.72      0.64      0.66     10000\n",
      "\n"
     ]
    }
   ],
   "source": [
    "y_pred = svc_clf.predict(X_test)\n",
    "print(metrics.classification_report(y_test, y_pred))"
   ]
  },
  {
   "cell_type": "code",
   "execution_count": 10,
   "metadata": {},
   "outputs": [
    {
     "data": {
      "image/png": "[encoded data removed]",
      "text/plain": [
       "<Figure size 432x288 with 2 Axes>"
      ]
     },
     "metadata": {
      "needs_background": "light"
     },
     "output_type": "display_data"
    }
   ],
   "source": [
    "cm = metrics.confusion_matrix(y_test, y_pred)\n",
    "cm_display = metrics.ConfusionMatrixDisplay(cm).plot()"
   ]
  },
  {
   "cell_type": "markdown",
   "metadata": {},
   "source": [
    "#### Fíjese que mejoró el macro avg en F1 pero al costo de empeorar en F1 en las clases mayoritarias. Es decir, SVM funciona muy bien con clases balanceadas. Si los datos están desbalanceados, no funciona bien. Necesitamos algo más."
   ]
  },
  {
   "cell_type": "code",
   "execution_count": null,
   "metadata": {},
   "outputs": [],
   "source": []
  }
 ],
 "metadata": {
  "kernelspec": {
   "display_name": "Python 3 (ipykernel)",
   "language": "python",
   "name": "python3"
  },
  "language_info": {
   "codemirror_mode": {
    "name": "ipython",
    "version": 3
   },
   "file_extension": ".py",
   "mimetype": "text/x-python",
   "name": "python",
   "nbconvert_exporter": "python",
   "pygments_lexer": "ipython3",
   "version": "3.10.11"
  }
 },
 "nbformat": 4,
 "nbformat_minor": 4
}
