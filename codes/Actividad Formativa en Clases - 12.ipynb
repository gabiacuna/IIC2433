{
 "cells": [
  {
   "cell_type": "markdown",
   "metadata": {},
   "source": [
    "# IIC-2433 Minería de Datos UC"
   ]
  },
  {
   "cell_type": "markdown",
   "metadata": {},
   "source": [
    "## Actividad en clase\n",
    "\n",
    "- Versiones de librerías, python 3.8.10\n",
    "\n",
    "- numpy 1.20.3\n",
    "- nltk 3.7\n",
    "- keras 2.9.0\n",
    "- tensorflow 2.9.1"
   ]
  },
  {
   "cell_type": "markdown",
   "metadata": {},
   "source": [
    "### Vamos a cargar los datos del dataset de la moda"
   ]
  },
  {
   "cell_type": "code",
   "execution_count": 1,
   "metadata": {},
   "outputs": [
    {
     "data": {
      "text/plain": [
       "(60000, 28, 28)"
      ]
     },
     "execution_count": 1,
     "metadata": {},
     "output_type": "execute_result"
    }
   ],
   "source": [
    "import numpy as np\n",
    "import tensorflow as tf\n",
    "from tensorflow import keras\n",
    "from tensorflow.keras import layers\n",
    "\n",
    "(x_train, _), (x_test, _) = keras.datasets.fashion_mnist.load_data()\n",
    "x_train.shape"
   ]
  },
  {
   "cell_type": "markdown",
   "metadata": {},
   "source": [
    "### Son imágenes de prendas de vestuario y accesorios"
   ]
  },
  {
   "cell_type": "code",
   "execution_count": 2,
   "metadata": {},
   "outputs": [
    {
     "data": {
      "image/png": "[encoded data removed]",
      "text/plain": [
       "<Figure size 72x72 with 1 Axes>"
      ]
     },
     "metadata": {
      "needs_background": "light"
     },
     "output_type": "display_data"
    }
   ],
   "source": [
    "import matplotlib.pyplot as plt\n",
    "\n",
    "plt.figure(figsize=(1,1))\n",
    "plt.axis('off')\n",
    "plt.imshow(x_train[1,])\n",
    "plt.show()"
   ]
  },
  {
   "cell_type": "markdown",
   "metadata": {},
   "source": [
    "### Defina la clase sampling del VAE"
   ]
  },
  {
   "cell_type": "code",
   "execution_count": 3,
   "metadata": {},
   "outputs": [],
   "source": [
    "class Sampling(layers.Layer):\n",
    "\n",
    "    def call(self, inputs):\n",
    "        ..."
   ]
  },
  {
   "cell_type": "markdown",
   "metadata": {},
   "source": [
    "### Defina el encoder para que pase por dos capas convolucionales 2D, una capa flatten y una densa que colapsa a 32 dims. Agregue mu, var y sampling."
   ]
  },
  {
   "cell_type": "code",
   "execution_count": 4,
   "metadata": {},
   "outputs": [
    {
     "name": "stdout",
     "output_type": "stream",
     "text": [
      "Model: \"encoder\"\n",
      "__________________________________________________________________________________________________\n",
      " Layer (type)                   Output Shape         Param #     Connected to                     \n",
      "==================================================================================================\n",
      " input_1 (InputLayer)           [(None, 28, 28, 1)]  0           []                               \n",
      "                                                                                                  \n",
      " conv2d (Conv2D)                (None, 14, 14, 64)   640         ['input_1[0][0]']                \n",
      "                                                                                                  \n",
      " conv2d_1 (Conv2D)              (None, 7, 7, 32)     18464       ['conv2d[0][0]']                 \n",
      "                                                                                                  \n",
      " flatten (Flatten)              (None, 1568)         0           ['conv2d_1[0][0]']               \n",
      "                                                                                                  \n",
      " dense (Dense)                  (None, 32)           50208       ['flatten[0][0]']                \n",
      "                                                                                                  \n",
      " z_mean (Dense)                 (None, 2)            66          ['dense[0][0]']                  \n",
      "                                                                                                  \n",
      " z_log_var (Dense)              (None, 2)            66          ['dense[0][0]']                  \n",
      "                                                                                                  \n",
      " sampling (Sampling)            (None, 2)            0           ['z_mean[0][0]',                 \n",
      "                                                                  'z_log_var[0][0]']              \n",
      "                                                                                                  \n",
      "==================================================================================================\n",
      "Total params: 69,444\n",
      "Trainable params: 69,444\n",
      "Non-trainable params: 0\n",
      "__________________________________________________________________________________________________\n"
     ]
    }
   ],
   "source": [
    "latent_dim = 2\n",
    "\n",
    "encoder_inputs = keras.Input(shape=(28, 28, 1))\n",
    "\n",
    "...\n",
    "\n",
    "encoder.summary()"
   ]
  },
  {
   "cell_type": "markdown",
   "metadata": {},
   "source": [
    "### Defina el decoder. Tenga cuidado al dimensionar los parámetros de manera que pueda reconstruir las imágenes manteniendo las dimensiones de la entrada."
   ]
  },
  {
   "cell_type": "code",
   "execution_count": 5,
   "metadata": {},
   "outputs": [
    {
     "name": "stdout",
     "output_type": "stream",
     "text": [
      "Model: \"decoder\"\n",
      "_________________________________________________________________\n",
      " Layer (type)                Output Shape              Param #   \n",
      "=================================================================\n",
      " input_2 (InputLayer)        [(None, 2)]               0         \n",
      "                                                                 \n",
      " dense_1 (Dense)             (None, 1568)              4704      \n",
      "                                                                 \n",
      " reshape (Reshape)           (None, 7, 7, 32)          0         \n",
      "                                                                 \n",
      " conv2d_transpose (Conv2DTra  (None, 14, 14, 64)       18496     \n",
      " nspose)                                                         \n",
      "                                                                 \n",
      " conv2d_transpose_1 (Conv2DT  (None, 28, 28, 128)      73856     \n",
      " ranspose)                                                       \n",
      "                                                                 \n",
      " conv2d_transpose_2 (Conv2DT  (None, 28, 28, 1)        1153      \n",
      " ranspose)                                                       \n",
      "                                                                 \n",
      "=================================================================\n",
      "Total params: 98,209\n",
      "Trainable params: 98,209\n",
      "Non-trainable params: 0\n",
      "_________________________________________________________________\n"
     ]
    }
   ],
   "source": [
    "latent_inputs = keras.Input(shape=(latent_dim,))\n",
    "\n",
    "...\n",
    "\n",
    "decoder.summary()"
   ]
  },
  {
   "cell_type": "markdown",
   "metadata": {},
   "source": [
    "### Defina el VAE. "
   ]
  },
  {
   "cell_type": "code",
   "execution_count": 6,
   "metadata": {},
   "outputs": [],
   "source": [
    "class VAE(keras.Model):\n",
    "    ...\n",
    "    "
   ]
  },
  {
   "cell_type": "markdown",
   "metadata": {},
   "source": [
    "### Normalice las imágenes al rango [0, 1] (train_norm = x_train / 255.0). Haga lo mismo para testing. Concatene training y testing y entrene el VAE por 20 epochs con batch_size=128 y optimizador Adam. Esto se va a tardar un poco."
   ]
  },
  {
   "cell_type": "code",
   "execution_count": 7,
   "metadata": {},
   "outputs": [
    {
     "name": "stdout",
     "output_type": "stream",
     "text": [
      "Epoch 1/20\n",
      "547/547 [==============================] - 45s 80ms/step - loss: 363.5134 - reconstruction_loss: 308.0511 - kl_loss: 5.0923\n",
      "Epoch 2/20\n",
      "547/547 [==============================] - 44s 80ms/step - loss: 274.7873 - reconstruction_loss: 267.2295 - kl_loss: 5.9021\n",
      "Epoch 3/20\n",
      "547/547 [==============================] - 44s 80ms/step - loss: 269.3065 - reconstruction_loss: 263.0724 - kl_loss: 5.9978\n",
      "Epoch 4/20\n",
      "547/547 [==============================] - 42s 77ms/step - loss: 267.7609 - reconstruction_loss: 261.4317 - kl_loss: 6.0155\n",
      "Epoch 5/20\n",
      "547/547 [==============================] - 43s 79ms/step - loss: 267.0670 - reconstruction_loss: 260.3288 - kl_loss: 6.0437\n",
      "Epoch 6/20\n",
      "547/547 [==============================] - 44s 80ms/step - loss: 265.9505 - reconstruction_loss: 259.3813 - kl_loss: 6.0650\n",
      "Epoch 7/20\n",
      "547/547 [==============================] - 44s 80ms/step - loss: 265.2789 - reconstruction_loss: 258.7555 - kl_loss: 6.0830\n",
      "Epoch 8/20\n",
      "547/547 [==============================] - 43s 79ms/step - loss: 265.1807 - reconstruction_loss: 258.1859 - kl_loss: 6.0921\n",
      "Epoch 9/20\n",
      "547/547 [==============================] - 43s 79ms/step - loss: 263.8881 - reconstruction_loss: 257.6471 - kl_loss: 6.1131\n",
      "Epoch 10/20\n",
      "547/547 [==============================] - 44s 80ms/step - loss: 263.1121 - reconstruction_loss: 257.2798 - kl_loss: 6.1369\n",
      "Epoch 11/20\n",
      "547/547 [==============================] - 44s 80ms/step - loss: 262.9588 - reconstruction_loss: 256.7690 - kl_loss: 6.1249\n",
      "Epoch 12/20\n",
      "547/547 [==============================] - 44s 80ms/step - loss: 262.1981 - reconstruction_loss: 256.3803 - kl_loss: 6.1504\n",
      "Epoch 13/20\n",
      "547/547 [==============================] - 43s 79ms/step - loss: 262.6311 - reconstruction_loss: 256.0824 - kl_loss: 6.1531\n",
      "Epoch 14/20\n",
      "547/547 [==============================] - 43s 79ms/step - loss: 261.7906 - reconstruction_loss: 255.8227 - kl_loss: 6.1857\n",
      "Epoch 15/20\n",
      "547/547 [==============================] - 43s 79ms/step - loss: 261.9077 - reconstruction_loss: 255.4538 - kl_loss: 6.2057\n",
      "Epoch 16/20\n",
      "547/547 [==============================] - 43s 79ms/step - loss: 261.5987 - reconstruction_loss: 255.0972 - kl_loss: 6.2099\n",
      "Epoch 17/20\n",
      "547/547 [==============================] - 44s 80ms/step - loss: 261.8292 - reconstruction_loss: 255.0141 - kl_loss: 6.2133\n",
      "Epoch 18/20\n",
      "547/547 [==============================] - 42s 77ms/step - loss: 260.8978 - reconstruction_loss: 254.7064 - kl_loss: 6.2271\n",
      "Epoch 19/20\n",
      "547/547 [==============================] - 44s 80ms/step - loss: 260.6300 - reconstruction_loss: 254.4257 - kl_loss: 6.2466\n",
      "Epoch 20/20\n",
      "547/547 [==============================] - 44s 80ms/step - loss: 260.7970 - reconstruction_loss: 254.2710 - kl_loss: 6.2475\n"
     ]
    },
    {
     "data": {
      "text/plain": [
       "<keras.callbacks.History at 0x7efb7c16e190>"
      ]
     },
     "execution_count": 7,
     "metadata": {},
     "output_type": "execute_result"
    }
   ],
   "source": [
    "mnist_fashion = np.concatenate([x_train, x_test], axis=0)\n",
    "mnist_fashion = np.expand_dims(mnist_fashion, -1).astype(\"float32\") / 255\n",
    "\n",
    "vae = VAE(encoder, decoder)\n",
    "...\n"
   ]
  },
  {
   "cell_type": "markdown",
   "metadata": {},
   "source": [
    "### Defina una función de data_augmentation que genere dos imágenes que correspondan a objetos distintos. Cuando las identifique, muéstrelas.\n",
    "### Use alguna función definida más arriba que le permita distinguir cuando dos imágenes son distintas. Use un umbral de error como parámetro de la función. Por ejemplo, si dos imágenes tienen un error > 500, se asume que son distintas.\n",
    "### --"
   ]
  },
  {
   "cell_type": "code",
   "execution_count": 8,
   "metadata": {},
   "outputs": [],
   "source": [
    "import random\n",
    "\n",
    "def data_augmentation(umbral):\n",
    "    \n",
    "    ...\n",
    "    \n",
    "    return True\n",
    "        \n",
    "    \n",
    "            "
   ]
  },
  {
   "cell_type": "code",
   "execution_count": 11,
   "metadata": {},
   "outputs": [
    {
     "name": "stdout",
     "output_type": "stream",
     "text": [
      "1/1 [==============================] - 0s 40ms/step\n",
      "1/1 [==============================] - 0s 26ms/step\n",
      "1/1 [==============================] - 0s 28ms/step\n"
     ]
    },
    {
     "data": {
      "image/png": "[encoded data removed]",
      "text/plain": [
       "<Figure size 72x72 with 1 Axes>"
      ]
     },
     "metadata": {
      "needs_background": "light"
     },
     "output_type": "display_data"
    },
    {
     "data": {
      "image/png": "[encoded data removed]",
      "text/plain": [
       "<Figure size 72x72 with 1 Axes>"
      ]
     },
     "metadata": {
      "needs_background": "light"
     },
     "output_type": "display_data"
    },
    {
     "data": {
      "text/plain": [
       "True"
      ]
     },
     "execution_count": 11,
     "metadata": {},
     "output_type": "execute_result"
    }
   ],
   "source": [
    "data_augmentation(650)"
   ]
  },
  {
   "cell_type": "code",
   "execution_count": null,
   "metadata": {},
   "outputs": [],
   "source": []
  }
 ],
 "metadata": {
  "kernelspec": {
   "display_name": "Python 3",
   "language": "python",
   "name": "python3"
  },
  "language_info": {
   "codemirror_mode": {
    "name": "ipython",
    "version": 3
   },
   "file_extension": ".py",
   "mimetype": "text/x-python",
   "name": "python",
   "nbconvert_exporter": "python",
   "pygments_lexer": "ipython3",
   "version": "3.8.10"
  }
 },
 "nbformat": 4,
 "nbformat_minor": 4
}
