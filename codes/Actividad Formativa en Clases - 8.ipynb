{
 "cells": [
  {
   "cell_type": "markdown",
   "metadata": {},
   "source": [
    "# IIC-2433 Minería de Datos UC"
   ]
  },
  {
   "cell_type": "markdown",
   "metadata": {},
   "source": [
    "- Versiones de librerías, python 3.8.10\n",
    "\n",
    "- numpy 1.20.3\n",
    "- sklearn 1.0.2\n",
    "- nltk 3.7\n",
    "- keras 2.9.0\n",
    "- tensorflow 2.9.1"
   ]
  },
  {
   "cell_type": "code",
   "execution_count": 1,
   "metadata": {},
   "outputs": [],
   "source": [
    "import tensorflow as tf\n",
    "from tensorflow import keras\n",
    "from sklearn.datasets import fetch_20newsgroups\n",
    "\n",
    "X_train_text, Y_train = fetch_20newsgroups(subset=\"train\", remove=('headers', 'footers', 'quotes'), return_X_y=True)\n",
    "X_test_text, Y_test  = fetch_20newsgroups(subset=\"test\", remove=('headers', 'footers', 'quotes'), return_X_y=True)"
   ]
  },
  {
   "cell_type": "markdown",
   "metadata": {},
   "source": [
    "\n",
    "## Actividad en clase\n",
    "\n",
    "Usando el algoritmo **MLP**, haga lo siguiente:\n",
    "\n",
    "- Procese el texto del dataset usando el método **tokenize** visto en clases.\n",
    "- Particione el dataset en **tres** particiones. Para esto, deje en train los primeros 10000 ejemplos de X_train_text y almacene los restantes ejemplos de train en una partición de validación.\n",
    "- Haga **padding** sobre las tres particiones usando el método visto en clases.\n",
    "- Cree una red **MLP** con tres capas densas de 256, 128 y 64 neuronas, respectivamente. Agregue una softmax de salida. \n",
    "- Entrene usando la particion de train y validación pasando como parámetro del fit() lo siguiente: (validation_data=(X_val_vect, val_y)). Use early_stopping con patience=2\n",
    "- Evalúe el modelo en la partición de testing usando classification_report.\n",
    "- Cuanto termine, me avisa para entregarle una **L (logrado)**.\n",
    "- Recuerde que cada L es una décima más en la nota de la asignatura.\n",
    "- Pueden trabajar de a dos.\n",
    "\n",
    "***Tiene hasta el final de la clase.***\n"
   ]
  },
  {
   "cell_type": "markdown",
   "metadata": {},
   "source": [
    "# Solución"
   ]
  },
  {
   "cell_type": "code",
   "execution_count": 2,
   "metadata": {},
   "outputs": [],
   "source": [
    "import numpy as np\n",
    "from nltk.corpus import stopwords\n",
    "from nltk.tokenize import RegexpTokenizer, sent_tokenize\n",
    "from nltk.stem import WordNetLemmatizer\n",
    "\n",
    "classes = np.unique(Y_train)\n",
    "\n",
    "# Load stop-words\n",
    "stop_words = set(stopwords.words('english'))\n",
    "\n",
    "# Initialize tokenizer\n",
    "# It's also possible to try with a stemmer or to mix a stemmer and a lemmatizer\n",
    "tokenizer = RegexpTokenizer('[\\'a-zA-Z]+')\n",
    "\n",
    "# Initialize lemmatizer\n",
    "lemmatizer = WordNetLemmatizer()\n",
    "\n",
    "def tokenize(document):\n",
    "    words = []\n",
    "\n",
    "    for sentence in sent_tokenize(document):\n",
    "        tokens = [lemmatizer.lemmatize(t.lower()) for t in tokenizer.tokenize(sentence) if t.lower() not in stop_words and len(t) > 2]\n",
    "        words += tokens\n",
    "\n",
    "    text = ' '.join(words)\n",
    "    return text"
   ]
  },
  {
   "cell_type": "code",
   "execution_count": 3,
   "metadata": {},
   "outputs": [],
   "source": [
    "train_docs = []\n",
    "val_docs = []\n",
    "test_docs = []\n",
    "\n",
    "for raw_text in X_train_text[:10000]:\n",
    "    text = tokenize(raw_text)\n",
    "    train_docs.append(text)\n",
    "    \n",
    "for raw_text in X_train_text[10000:]:\n",
    "    text = tokenize(raw_text)\n",
    "    val_docs.append(text)\n",
    "    \n",
    "for raw_text in X_test_text:\n",
    "    text = tokenize(raw_text)\n",
    "    test_docs.append(text)\n",
    "\n",
    "train_y = []\n",
    "val_y = []\n",
    "\n",
    "for label in Y_train[:10000]:\n",
    "    train_y.append(label)\n",
    "    \n",
    "for label in Y_train[10000:]:\n",
    "    val_y.append(label)\n",
    "    \n",
    "train_y = np.asarray(train_y)\n",
    "val_y = np.asarray(val_y)"
   ]
  },
  {
   "cell_type": "code",
   "execution_count": 4,
   "metadata": {},
   "outputs": [],
   "source": [
    "from keras.preprocessing.text import Tokenizer\n",
    "from keras_preprocessing.sequence import pad_sequences\n",
    "\n",
    "max_tokens = 50 ## Hyperparameter, input length\n",
    "\n",
    "tokenizer = Tokenizer()\n",
    "tokenizer.fit_on_texts(train_docs+val_docs+test_docs)\n",
    "\n",
    "## Vectorizing data to keep 50 words per sample.\n",
    "X_train_vect = pad_sequences(tokenizer.texts_to_sequences(train_docs), maxlen=max_tokens, padding=\"post\", truncating=\"post\", value=0.)\n",
    "X_val_vect = pad_sequences(tokenizer.texts_to_sequences(val_docs), maxlen=max_tokens, padding=\"post\", truncating=\"post\", value=0.)\n",
    "X_test_vect  = pad_sequences(tokenizer.texts_to_sequences(test_docs), maxlen=max_tokens, padding=\"post\", truncating=\"post\", value=0.)"
   ]
  },
  {
   "cell_type": "code",
   "execution_count": 5,
   "metadata": {},
   "outputs": [
    {
     "name": "stdout",
     "output_type": "stream",
     "text": [
      "Model: \"model\"\n",
      "_________________________________________________________________\n",
      " Layer (type)                Output Shape              Param #   \n",
      "=================================================================\n",
      " input_1 (InputLayer)        [(None, 50)]              0         \n",
      "                                                                 \n",
      " embedding (Embedding)       (None, 50, 50)            4753900   \n",
      "                                                                 \n",
      " tf.math.reduce_mean (TFOpLa  (None, 50)               0         \n",
      " mbda)                                                           \n",
      "                                                                 \n",
      " dense (Dense)               (None, 256)               13056     \n",
      "                                                                 \n",
      " dense_1 (Dense)             (None, 128)               32896     \n",
      "                                                                 \n",
      " dense_2 (Dense)             (None, 64)                8256      \n",
      "                                                                 \n",
      " dense_3 (Dense)             (None, 20)                1300      \n",
      "                                                                 \n",
      "=================================================================\n",
      "Total params: 4,809,408\n",
      "Trainable params: 4,809,408\n",
      "Non-trainable params: 0\n",
      "_________________________________________________________________\n"
     ]
    }
   ],
   "source": [
    "from keras.models import Sequential, Model\n",
    "from keras.layers import Dense, Embedding, Input\n",
    "\n",
    "inputs = Input(shape=(max_tokens, ))\n",
    "embeddings_layer = Embedding(input_dim=len(tokenizer.index_word)+1, output_dim=50, input_length=max_tokens, trainable=True)\n",
    "dense1 = Dense(256, activation=\"relu\")\n",
    "dense2 = Dense(128, activation=\"relu\")\n",
    "dense3 = Dense(64, activation=\"relu\")\n",
    "dense4 = Dense(len(classes), activation=\"softmax\")\n",
    "\n",
    "x = embeddings_layer(inputs)\n",
    "x = tf.reduce_mean(x, axis=1) \n",
    "x = dense1(x)\n",
    "x = dense2(x)\n",
    "x = dense3(x)\n",
    "outputs = dense4(x)\n",
    "\n",
    "model = Model(inputs=inputs, outputs=outputs)\n",
    "\n",
    "model.summary()"
   ]
  },
  {
   "cell_type": "code",
   "execution_count": 6,
   "metadata": {},
   "outputs": [],
   "source": [
    "model.compile(optimizer=\"adam\", loss=\"sparse_categorical_crossentropy\", metrics=[\"accuracy\"])"
   ]
  },
  {
   "cell_type": "code",
   "execution_count": 7,
   "metadata": {},
   "outputs": [],
   "source": [
    "callback = tf.keras.callbacks.EarlyStopping(monitor='loss', patience=2)"
   ]
  },
  {
   "cell_type": "code",
   "execution_count": 8,
   "metadata": {},
   "outputs": [
    {
     "name": "stdout",
     "output_type": "stream",
     "text": [
      "Epoch 1/20\n",
      "313/313 [==============================] - 8s 23ms/step - loss: 2.5176 - accuracy: 0.1709 - val_loss: 1.9835 - val_accuracy: 0.3075\n",
      "Epoch 2/20\n",
      "313/313 [==============================] - 7s 22ms/step - loss: 1.5574 - accuracy: 0.4521 - val_loss: 1.6802 - val_accuracy: 0.4330\n",
      "Epoch 3/20\n",
      "313/313 [==============================] - 7s 22ms/step - loss: 0.9847 - accuracy: 0.6705 - val_loss: 1.7657 - val_accuracy: 0.4764\n",
      "Epoch 4/20\n",
      "313/313 [==============================] - 7s 22ms/step - loss: 0.6433 - accuracy: 0.7966 - val_loss: 2.0383 - val_accuracy: 0.4810\n",
      "Epoch 5/20\n",
      "313/313 [==============================] - 7s 22ms/step - loss: 0.4357 - accuracy: 0.8673 - val_loss: 2.3686 - val_accuracy: 0.4878\n",
      "Epoch 6/20\n",
      "313/313 [==============================] - 7s 22ms/step - loss: 0.3171 - accuracy: 0.9114 - val_loss: 2.6136 - val_accuracy: 0.5183\n",
      "Epoch 7/20\n",
      "313/313 [==============================] - 7s 22ms/step - loss: 0.2522 - accuracy: 0.9314 - val_loss: 2.7907 - val_accuracy: 0.5327\n",
      "Epoch 8/20\n",
      "313/313 [==============================] - 7s 22ms/step - loss: 0.2162 - accuracy: 0.9423 - val_loss: 2.9777 - val_accuracy: 0.5198\n",
      "Epoch 9/20\n",
      "313/313 [==============================] - 7s 22ms/step - loss: 0.1827 - accuracy: 0.9537 - val_loss: 3.1228 - val_accuracy: 0.5190\n",
      "Epoch 10/20\n",
      "313/313 [==============================] - 7s 22ms/step - loss: 0.1693 - accuracy: 0.9580 - val_loss: 3.2959 - val_accuracy: 0.5236\n",
      "Epoch 11/20\n",
      "313/313 [==============================] - 7s 22ms/step - loss: 0.1605 - accuracy: 0.9590 - val_loss: 3.4569 - val_accuracy: 0.5190\n",
      "Epoch 12/20\n",
      "313/313 [==============================] - 7s 22ms/step - loss: 0.1479 - accuracy: 0.9630 - val_loss: 3.6233 - val_accuracy: 0.5167\n",
      "Epoch 13/20\n",
      "313/313 [==============================] - 7s 22ms/step - loss: 0.1415 - accuracy: 0.9631 - val_loss: 3.6434 - val_accuracy: 0.5183\n",
      "Epoch 14/20\n",
      "313/313 [==============================] - 7s 22ms/step - loss: 0.1313 - accuracy: 0.9651 - val_loss: 3.7299 - val_accuracy: 0.5251\n",
      "Epoch 15/20\n",
      "313/313 [==============================] - 7s 22ms/step - loss: 0.1332 - accuracy: 0.9659 - val_loss: 3.9315 - val_accuracy: 0.5236\n",
      "Epoch 16/20\n",
      "313/313 [==============================] - 7s 22ms/step - loss: 0.1382 - accuracy: 0.9617 - val_loss: 3.8694 - val_accuracy: 0.5312\n"
     ]
    },
    {
     "data": {
      "text/plain": [
       "<keras.callbacks.History at 0x7ff2c4195700>"
      ]
     },
     "execution_count": 8,
     "metadata": {},
     "output_type": "execute_result"
    }
   ],
   "source": [
    "model.fit(X_train_vect, train_y, batch_size=32, epochs=20, callbacks=[callback], validation_data=(X_val_vect, val_y))"
   ]
  },
  {
   "cell_type": "code",
   "execution_count": 9,
   "metadata": {},
   "outputs": [],
   "source": [
    "labels = ['alt.atheism',\n",
    " 'comp.graphics',\n",
    " 'comp.os.ms-windows.misc',\n",
    " 'comp.sys.ibm.pc.hardware',\n",
    " 'comp.sys.mac.hardware',\n",
    " 'comp.windows.x',\n",
    " 'misc.forsale',\n",
    " 'rec.autos',\n",
    " 'rec.motorcycles',\n",
    " 'rec.sport.baseball',\n",
    " 'rec.sport.hockey',\n",
    " 'sci.crypt',\n",
    " 'sci.electronics',\n",
    " 'sci.med',\n",
    " 'sci.space',\n",
    " 'soc.religion.christian',\n",
    " 'talk.politics.guns',\n",
    " 'talk.politics.mideast',\n",
    " 'talk.politics.misc',\n",
    " 'talk.religion.misc']"
   ]
  },
  {
   "cell_type": "code",
   "execution_count": 10,
   "metadata": {},
   "outputs": [
    {
     "name": "stdout",
     "output_type": "stream",
     "text": [
      "236/236 [==============================] - 1s 2ms/step\n",
      "Test Accuracy : 0.4502124269782262\n",
      "\n",
      "Classification Report : \n",
      "                          precision    recall  f1-score   support\n",
      "\n",
      "             alt.atheism       0.29      0.28      0.28       319\n",
      "           comp.graphics       0.40      0.44      0.42       389\n",
      " comp.os.ms-windows.misc       0.45      0.37      0.41       394\n",
      "comp.sys.ibm.pc.hardware       0.43      0.49      0.46       392\n",
      "   comp.sys.mac.hardware       0.44      0.38      0.41       385\n",
      "          comp.windows.x       0.57      0.51      0.54       395\n",
      "            misc.forsale       0.68      0.51      0.58       390\n",
      "               rec.autos       0.34      0.57      0.42       396\n",
      "         rec.motorcycles       0.52      0.53      0.53       398\n",
      "      rec.sport.baseball       0.60      0.52      0.55       397\n",
      "        rec.sport.hockey       0.73      0.62      0.67       399\n",
      "               sci.crypt       0.49      0.54      0.52       396\n",
      "         sci.electronics       0.38      0.35      0.37       393\n",
      "                 sci.med       0.41      0.46      0.43       396\n",
      "               sci.space       0.38      0.37      0.38       394\n",
      "  soc.religion.christian       0.59      0.45      0.51       398\n",
      "      talk.politics.guns       0.37      0.40      0.38       364\n",
      "   talk.politics.mideast       0.71      0.54      0.61       376\n",
      "      talk.politics.misc       0.21      0.28      0.24       310\n",
      "      talk.religion.misc       0.22      0.25      0.24       251\n",
      "\n",
      "                accuracy                           0.45      7532\n",
      "               macro avg       0.46      0.44      0.45      7532\n",
      "            weighted avg       0.47      0.45      0.46      7532\n",
      "\n"
     ]
    }
   ],
   "source": [
    "from sklearn.metrics import accuracy_score, classification_report\n",
    "\n",
    "Y_preds = model.predict(X_test_vect).argmax(axis=-1)\n",
    "\n",
    "print(\"Test Accuracy : {}\".format(accuracy_score(Y_test, Y_preds)))\n",
    "print(\"\\nClassification Report : \")\n",
    "print(classification_report(Y_test, Y_preds, target_names=labels))"
   ]
  },
  {
   "cell_type": "code",
   "execution_count": null,
   "metadata": {},
   "outputs": [],
   "source": []
  }
 ],
 "metadata": {
  "kernelspec": {
   "display_name": "Python 3 (ipykernel)",
   "language": "python",
   "name": "python3"
  },
  "language_info": {
   "codemirror_mode": {
    "name": "ipython",
    "version": 3
   },
   "file_extension": ".py",
   "mimetype": "text/x-python",
   "name": "python",
   "nbconvert_exporter": "python",
   "pygments_lexer": "ipython3",
   "version": "3.10.11"
  }
 },
 "nbformat": 4,
 "nbformat_minor": 4
}
